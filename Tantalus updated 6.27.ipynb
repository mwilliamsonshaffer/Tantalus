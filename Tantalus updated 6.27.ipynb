{
 "cells": [
  {
   "cell_type": "code",
   "execution_count": 1,
   "id": "3054bb90",
   "metadata": {},
   "outputs": [],
   "source": [
    "#imports\n",
    "import matplotlib.pyplot as plt\n",
    "import astropy.io\n",
    "from astropy.io import fits\n",
    "from astropy import wcs\n",
    "import numpy as np\n",
    "from numpy import append\n",
    "import healpy as hp\n",
    "from cosmology import *\n",
    "from scipy.interpolate import *\n",
    "import pixell\n",
    "from pixell import reproject, enplot, enmap, utils"
   ]
  },
  {
   "cell_type": "code",
   "execution_count": 2,
   "id": "9c2e6c5a",
   "metadata": {},
   "outputs": [],
   "source": [
    "# variables for Halo catalog\n",
    "omegab = 0.049\n",
    "omegac = 0.261\n",
    "omegam = omegab + omegac\n",
    "h      = 0.68\n",
    "ns     = 0.965\n",
    "sigma8 = 0.81\n",
    "c = 3e5\n",
    "H0 = 100*h\n",
    "nz = 100000\n",
    "z1 = 0.0\n",
    "z2 = 6.0\n",
    "za = np.linspace(z1,z2,nz)\n",
    "dz = za[1]-za[0]\n",
    "H = lambda z: H0*np.sqrt(omegam*(1+z)**3+1-omegam)\n",
    "dchidz = lambda z: c/H(z)\n",
    "chia = np.cumsum(dchidz(za))*dz\n",
    "zofchi = interp1d(chia,za)\n",
    "rho = 2.775e11*omegam*h**2 # Msun/Mpc^3d"
   ]
  },
  {
   "cell_type": "code",
   "execution_count": 3,
   "id": "d310c0b6",
   "metadata": {},
   "outputs": [],
   "source": [
    "# Opens fits files that aren't in alm form\n",
    "def read_healpy_normal(file):\n",
    "    return hp.read_map(file)\n",
    "\n",
    "# Uses healpy to graph fits files that aren't in alm form\n",
    "def display_healpy_normal(file): \n",
    "    return hp.gnomview(read_healpy_normal(file))\n",
    "\n",
    "# Opens fits files that are in alm form\n",
    "def read_healpy_alm(file):\n",
    "    A1 = hp.read_alm(file)\n",
    "    NSIDE1 = 1024\n",
    "    return hp.alm2map(A1,NSIDE1)\n",
    "\n",
    "# Uses healpy to graph fits files that are in alm form\n",
    "def display_healpy_alm(file): \n",
    "    return hp.gnomview(read_healpy_alm(file))"
   ]
  },
  {
   "cell_type": "code",
   "execution_count": 4,
   "id": "3e77bdc8",
   "metadata": {},
   "outputs": [],
   "source": [
    "# Converts to an enmap\n",
    "def read_enmap_normal(file):\n",
    "    shape, wcs = enmap.fullsky_geometry(res=0.5 * utils.arcmin, proj='car')\n",
    "    iheal = read_healpy_normal(file)\n",
    "    iheal = iheal.astype(np.float32)\n",
    "    return reproject.healpix2map(iheal,shape,wcs)\n",
    "\n",
    "# Graphs enmap using pixell\n",
    "def display_enmap_normal(file):\n",
    "    shape, wcs = enmap.fullsky_geometry(res=0.5 * utils.arcmin, proj='car')\n",
    "    iheal = read_healpy_normal(file)\n",
    "    iheal = iheal.astype(np.float32)\n",
    "    enmap_map = reproject.healpix2map(iheal,shape,wcs)\n",
    "    return plt.imshow(enmap_map)\n",
    "\n",
    "# Converts to an enmap for alm files\n",
    "def read_enmap_alm(file):\n",
    "    shape, wcs = enmap.fullsky_geometry(res=0.5 * utils.arcmin, proj='car')\n",
    "    iheal = read_healpy_alm(file)\n",
    "    iheal = iheal.astype(np.float32)\n",
    "    return reproject.healpix2map(iheal,shape,wcs)\n",
    "\n",
    "# Graphs enmap using pixell for alm files\n",
    "def display_enmap_alm(file):\n",
    "    shape, wcs = enmap.fullsky_geometry(res=0.5 * utils.arcmin, proj='car')\n",
    "    iheal = read_healpy_alm(file)\n",
    "    iheal = iheal.astype(np.float32)\n",
    "    enmap_map = reproject.healpix2map(iheal,shape,wcs)\n",
    "    return plt.imshow(enmap_map)"
   ]
  },
  {
   "cell_type": "code",
   "execution_count": 5,
   "id": "d4a56925",
   "metadata": {},
   "outputs": [],
   "source": [
    "#ONLY RUN ONCE\n",
    "\n",
    "# Defines shape and wcs for a full sky projection\n",
    "shape, wcs = enmap.fullsky_geometry(res=0.5 * utils.arcmin, proj='car')\n",
    "\n",
    "# Creates a variable for the kappa enmap\n",
    "iheal_kap = read_healpy_normal('kap.fits')\n",
    "iheal_kap = iheal_kap.astype(np.float32)\n",
    "enmap_map_kaps = reproject.healpix2map(iheal_kap,shape,wcs)\n",
    "\n",
    "# Creates a variable for the tsz enmap\n",
    "iheal_tsz = read_healpy_normal('tsz.fits')\n",
    "iheal_tsz = iheal_tsz.astype(np.float32)\n",
    "enmap_map_tsz = reproject.healpix2map(iheal_tsz,shape,wcs)\n",
    "\n",
    "# Creates a variable for the lensed enmap\n",
    "iheal_lensed = read_healpy_alm('lensed_alm.fits')\n",
    "iheal_lensed = iheal_lensed.astype(np.float32)\n",
    "enmap_map_lensed = reproject.healpix2map(iheal_lensed,shape,wcs)"
   ]
  },
  {
   "cell_type": "code",
   "execution_count": 6,
   "id": "bd20d6c2",
   "metadata": {},
   "outputs": [],
   "source": [
    "# ONLY RUN ONCE\n",
    "# Opens the first N terms in the Halos Catalog\n",
    "f=open('halos.pksc')\n",
    "N = 1000\n",
    "Nhalo = np.fromfile(f, count=3, dtype=np.int32)[0]\n",
    "catalog=np.fromfile(f,count=N*10,dtype=np.float32)"
   ]
  },
  {
   "cell_type": "code",
   "execution_count": 7,
   "id": "0b228f5e",
   "metadata": {},
   "outputs": [],
   "source": [
    "# Converts catalog data into a useful form\n",
    "# Theta = colatitude, phi = longitude\n",
    "catalog=np.reshape(catalog,(N,10))\n",
    "x  = catalog[:,0];  y = catalog[:,1];  z = catalog[:,2] # Mpc (comoving)\n",
    "vx = catalog[:,3]; vy = catalog[:,4]; vz = catalog[:,5] # km/sec\n",
    "R  = catalog[:,6] # Mpc\n",
    "\n",
    "# convert to mass, comoving distance, radial velocity, redshfit, RA and DEc\n",
    "M200m    = 4*np.pi/3.*rho*R**3        # this is M200m (mean density 200 times mean) in Msun\n",
    "chi      = np.sqrt(x**2+y**2+z**2)    # Mpc\n",
    "vrad     = (x*vx + y*vy + z*vz) / chi # km/sec\n",
    "redshift = zofchi(chi)  \n",
    "theta, phi  = hp.vec2ang(np.column_stack((x,y,z))) # in radians"
   ]
  },
  {
   "cell_type": "code",
   "execution_count": 8,
   "id": "5d2273a8",
   "metadata": {},
   "outputs": [],
   "source": [
    "# Creates a list of masses\n",
    "mass_list = []\n",
    "for j in range(N):\n",
    "    mass_list.append(M200m[j])"
   ]
  },
  {
   "cell_type": "code",
   "execution_count": 9,
   "id": "02ac05ab",
   "metadata": {},
   "outputs": [
    {
     "data": {
      "text/plain": [
       "(array([  0., 371., 257., 138.,  82.,  55.,  29.,  26.,  10.]),\n",
       " array([1.00000000e+15, 1.16666667e+15, 1.33333333e+15, 1.50000000e+15,\n",
       "        1.66666667e+15, 1.83333333e+15, 2.00000000e+15, 2.16666667e+15,\n",
       "        2.33333333e+15, 2.50000000e+15]),\n",
       " <BarContainer object of 9 artists>)"
      ]
     },
     "execution_count": 9,
     "metadata": {},
     "output_type": "execute_result"
    },
    {
     "data": {
      "image/png": "[encoded data removed]",
      "text/plain": [
       "<Figure size 640x480 with 1 Axes>"
      ]
     },
     "metadata": {},
     "output_type": "display_data"
    }
   ],
   "source": [
    "#Shows distribution of masses\n",
    "plt.hist(mass_list, bins=np.linspace(1*10**15, 2.5*10**15,10))"
   ]
  },
  {
   "cell_type": "code",
   "execution_count": 10,
   "id": "613a9e89",
   "metadata": {},
   "outputs": [],
   "source": [
    "# Converts colatitude and longitude into declination and right assencion\n",
    "def read_halo(i):\n",
    "    lat = np.pi/2 -theta\n",
    "    return lat[i], phi[i]"
   ]
  },
  {
   "cell_type": "code",
   "execution_count": 11,
   "id": "3735bde6",
   "metadata": {},
   "outputs": [],
   "source": [
    "# Creates list of coordinates of halos with large masses\n",
    "big_mass_coords = []\n",
    "for z in range(len(mass_list)):\n",
    "    if mass_list[z] >= 1.5*10**15:\n",
    "        big_mass_coords.append(read_halo(z))"
   ]
  },
  {
   "cell_type": "code",
   "execution_count": 12,
   "id": "88f95d82",
   "metadata": {},
   "outputs": [
    {
     "data": {
      "text/plain": [
       "372"
      ]
     },
     "execution_count": 12,
     "metadata": {},
     "output_type": "execute_result"
    }
   ],
   "source": [
    "# Tells you how many thumbnails you can stack\n",
    "len(big_mass_coords)"
   ]
  },
  {
   "cell_type": "code",
   "execution_count": 13,
   "id": "728b8e86",
   "metadata": {},
   "outputs": [],
   "source": [
    "# ONLY RUN ONCE\n",
    "# Creates a thumbnail centered around given coordinates\n",
    "\n",
    "def thumbnail_kap(i):\n",
    "    coords = big_mass_coords[i]\n",
    "    return reproject.thumbnails(enmap_map_kaps,coords)\n",
    "\n",
    "def thumbnail_tsz(i):\n",
    "    coords = big_mass_coords[i]\n",
    "    return reproject.thumbnails(enmap_map_tsz,coords)\n",
    "\n",
    "def thumbnail_lensed(i):\n",
    "    coords = big_mass_coords[i]\n",
    "    return reproject.thumbnails(enmap_map_lensed,coords)"
   ]
  },
  {
   "cell_type": "code",
   "execution_count": 14,
   "id": "e88795d8",
   "metadata": {},
   "outputs": [],
   "source": [
    "def averaged_map_kap(k):\n",
    "    image_list_kap = []\n",
    "    for z in range(k):\n",
    "        image_list_kap.append(np.array(thumbnail_kap(z)))\n",
    "    # Stack the images into a single NumPy array\n",
    "    stacked_images_kap = np.stack(image_list_kap, axis=0)  # Stack along the first axis (0)\n",
    "    # Compute the average of the stacked images\n",
    "    average_image_kap = np.average(stacked_images_kap, axis=0)\n",
    "    return average_image_kap\n",
    "    \n",
    "def averaged_map_tsz(k):\n",
    "    image_list_tsz = []\n",
    "    for z in range(k):\n",
    "        image_list_tsz.append(np.array(thumbnail_tsz(z)))\n",
    "    # Stack the images into a single NumPy array\n",
    "    stacked_images_tsz = np.stack(image_list_tsz, axis=0)  # Stack along the first axis (0)\n",
    "    # Compute the average of the stacked images\n",
    "    average_image_tsz = np.average(stacked_images_tsz, axis=0)\n",
    "    return average_image_tsz\n",
    "    \n",
    "def averaged_map_lensed(k):\n",
    "    image_list_lensed = []\n",
    "    for z in range(k):\n",
    "        image_list_lensed.append(np.array(thumbnail_lensed(z)))\n",
    "    # Stack the images into a single NumPy array\n",
    "    stacked_images_lensed = np.stack(image_list_lensed, axis=0)  # Stack along the first axis (0)\n",
    "    # Compute the average of the stacked images\n",
    "    average_image_lensed = np.average(stacked_images_lensed, axis=0)\n",
    "    return average_image_lensed\n"
   ]
  },
  {
   "cell_type": "code",
   "execution_count": 15,
   "id": "660af2a9",
   "metadata": {},
   "outputs": [],
   "source": [
    "# For any i indice, plots each data set as subplots\n",
    "def averaged_subplots(k):\n",
    "    average_map_kap = averaged_map_kap(k)\n",
    "    average_map_tsz = averaged_map_tsz(k)\n",
    "    average_map_lensed = averaged_map_lensed(k)\n",
    "    fig, axs = plt.subplots(1, 3)\n",
    "    im1 = axs[0].imshow(average_map_kap, origin='lower')\n",
    "    cbar1 = fig.colorbar(im1, ax=axs[0], fraction=0.04, orientation='horizontal', pad=0.1)\n",
    "    im2 = axs[1].imshow(average_map_tsz, origin='lower')\n",
    "    cbar2 = fig.colorbar(im2, ax=axs[1], fraction=0.04, orientation='horizontal', pad=0.1)\n",
    "    im3 = axs[2].imshow(average_map_lensed, origin='lower')\n",
    "    cbar3 = fig.colorbar(im3, ax=axs[2], fraction=0.04, orientation='horizontal', pad=0.1)\n",
    "    axs[0].set_title('Kappa')\n",
    "    axs[1].set_title('Tsz')\n",
    "    axs[2].set_title('Lensed Temp')\n",
    "    return plt.show()"
   ]
  },
  {
   "cell_type": "code",
   "execution_count": 16,
   "id": "ec730234",
   "metadata": {},
   "outputs": [
    {
     "data": {
      "image/png": "[encoded data removed]",
      "text/plain": [
       "<Figure size 640x480 with 6 Axes>"
      ]
     },
     "metadata": {},
     "output_type": "display_data"
    }
   ],
   "source": [
    "averaged_subplots(350)"
   ]
  }
 ],
 "metadata": {
  "kernelspec": {
   "display_name": "Python 3 (ipykernel)",
   "language": "python",
   "name": "python3"
  },
  "language_info": {
   "codemirror_mode": {
    "name": "ipython",
    "version": 3
   },
   "file_extension": ".py",
   "mimetype": "text/x-python",
   "name": "python",
   "nbconvert_exporter": "python",
   "pygments_lexer": "ipython3",
   "version": "3.10.10"
  }
 },
 "nbformat": 4,
 "nbformat_minor": 5
}
